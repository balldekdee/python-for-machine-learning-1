{
 "cells": [
  {
   "cell_type": "code",
   "execution_count": 9,
   "metadata": {
    "collapsed": false
   },
   "outputs": [],
   "source": [
    "import pandas as pd\n",
    "import numpy as np\n",
    "import scipy\n",
    "from datetime import datetime"
   ]
  },
  {
   "cell_type": "code",
   "execution_count": 10,
   "metadata": {
    "collapsed": false
   },
   "outputs": [],
   "source": [
    " tickerDataRaw = pd.read_csv('C:\\Users\\sutta\\PycharmProjects\\lstmbacktest1\\EURUSD_1H.csv')"
   ]
  },
  {
   "cell_type": "code",
   "execution_count": 11,
   "metadata": {
    "collapsed": false
   },
   "outputs": [
    {
     "name": "stdout",
     "output_type": "stream",
     "text": [
      "                  GMT time     Open     High      Low    Close      Volume\n",
      "0  03.01.2005 00:00:00.000  1.35772  1.35777  1.35391  1.35438  29752.0996\n",
      "1  03.01.2005 01:00:00.000  1.35443  1.35477  1.35271  1.35354  33412.1992\n",
      "2  03.01.2005 02:00:00.000  1.35357  1.35358  1.34965  1.35012  31876.0996\n",
      "3  03.01.2005 03:00:00.000  1.34998  1.35004  1.33856  1.34061  29160.5996\n",
      "4  03.01.2005 04:00:00.000  1.34094  1.34422  1.34056  1.34418  30099.0996\n"
     ]
    }
   ],
   "source": [
    "print tickerDataRaw.head()"
   ]
  },
  {
   "cell_type": "code",
   "execution_count": 12,
   "metadata": {
    "collapsed": false
   },
   "outputs": [],
   "source": [
    "tickerDataRaw['GMT time']= pd.to_datetime(tickerDataRaw['GMT time'])\n"
   ]
  },
  {
   "cell_type": "code",
   "execution_count": 13,
   "metadata": {
    "collapsed": true
   },
   "outputs": [],
   "source": [
    "tickerDataRaw['GMT time']= pd.to_datetime(tickerDataRaw['GMT time'])"
   ]
  },
  {
   "cell_type": "code",
   "execution_count": 14,
   "metadata": {
    "collapsed": true
   },
   "outputs": [],
   "source": [
    "tickerDataRaw.index = tickerDataRaw[\"GMT time\"]"
   ]
  },
  {
   "cell_type": "code",
   "execution_count": 15,
   "metadata": {
    "collapsed": true
   },
   "outputs": [],
   "source": [
    " del tickerDataRaw[\"GMT time\"]"
   ]
  },
  {
   "cell_type": "code",
   "execution_count": 16,
   "metadata": {
    "collapsed": false
   },
   "outputs": [
    {
     "name": "stdout",
     "output_type": "stream",
     "text": [
      "                        Open     High      Low    Close      Volume\n",
      "GMT time                                                           \n",
      "2005-03-01 00:00:00  1.35772  1.35777  1.35391  1.35438  29752.0996\n",
      "2005-03-01 01:00:00  1.35443  1.35477  1.35271  1.35354  33412.1992\n",
      "2005-03-01 02:00:00  1.35357  1.35358  1.34965  1.35012  31876.0996\n",
      "2005-03-01 03:00:00  1.34998  1.35004  1.33856  1.34061  29160.5996\n",
      "2005-03-01 04:00:00  1.34094  1.34422  1.34056  1.34418  30099.0996\n"
     ]
    }
   ],
   "source": [
    "print tickerDataRaw.head()"
   ]
  },
  {
   "cell_type": "code",
   "execution_count": 17,
   "metadata": {
    "collapsed": false
   },
   "outputs": [
    {
     "name": "stdout",
     "output_type": "stream",
     "text": [
      "                        Open     High      Low    Close     Volume\n",
      "GMT time                                                          \n",
      "2016-04-01 19:00:00  1.08222  1.08280  1.08157  1.08275  5086.3799\n",
      "2016-04-01 20:00:00  1.08272  1.08371  1.08261  1.08288  5940.1899\n",
      "2016-04-01 21:00:00  1.08290  1.08370  1.08288  1.08296  3644.4299\n",
      "2016-04-01 22:00:00  1.08303  1.08326  1.08268  1.08290  1948.0900\n",
      "2016-04-01 23:00:00  1.08290  1.08290  1.08235  1.08237  3459.2300\n"
     ]
    }
   ],
   "source": [
    "print tickerDataRaw.tail()"
   ]
  },
  {
   "cell_type": "code",
   "execution_count": 28,
   "metadata": {
    "collapsed": false
   },
   "outputs": [],
   "source": [
    "tickerDataRaw['ret'] = tickerDataRaw.Close.pct_change()\n"
   ]
  },
  {
   "cell_type": "code",
   "execution_count": 29,
   "metadata": {
    "collapsed": false
   },
   "outputs": [
    {
     "name": "stdout",
     "output_type": "stream",
     "text": [
      "                        Open     High      Low    Close      Volume       ret\n",
      "GMT time                                                                     \n",
      "2005-03-01 00:00:00  1.35772  1.35777  1.35391  1.35438  29752.0996       NaN\n",
      "2005-03-01 01:00:00  1.35443  1.35477  1.35271  1.35354  33412.1992 -0.000620\n",
      "2005-03-01 02:00:00  1.35357  1.35358  1.34965  1.35012  31876.0996 -0.002527\n",
      "2005-03-01 03:00:00  1.34998  1.35004  1.33856  1.34061  29160.5996 -0.007044\n",
      "2005-03-01 04:00:00  1.34094  1.34422  1.34056  1.34418  30099.0996  0.002663\n"
     ]
    }
   ],
   "source": [
    "print tickerDataRaw.head()"
   ]
  },
  {
   "cell_type": "code",
   "execution_count": 30,
   "metadata": {
    "collapsed": true
   },
   "outputs": [],
   "source": [
    "tickerDataRaw['Logrtn']= np.log(1+tickerDataRaw.ret)"
   ]
  },
  {
   "cell_type": "code",
   "execution_count": 31,
   "metadata": {
    "collapsed": false
   },
   "outputs": [
    {
     "name": "stdout",
     "output_type": "stream",
     "text": [
      "                        Open     High      Low    Close      Volume       ret  \\\n",
      "GMT time                                                                        \n",
      "2005-03-01 00:00:00  1.35772  1.35777  1.35391  1.35438  29752.0996       NaN   \n",
      "2005-03-01 01:00:00  1.35443  1.35477  1.35271  1.35354  33412.1992 -0.000620   \n",
      "2005-03-01 02:00:00  1.35357  1.35358  1.34965  1.35012  31876.0996 -0.002527   \n",
      "2005-03-01 03:00:00  1.34998  1.35004  1.33856  1.34061  29160.5996 -0.007044   \n",
      "2005-03-01 04:00:00  1.34094  1.34422  1.34056  1.34418  30099.0996  0.002663   \n",
      "\n",
      "                       Logrtn  \n",
      "GMT time                       \n",
      "2005-03-01 00:00:00       NaN  \n",
      "2005-03-01 01:00:00 -0.000620  \n",
      "2005-03-01 02:00:00 -0.002530  \n",
      "2005-03-01 03:00:00 -0.007069  \n",
      "2005-03-01 04:00:00  0.002659  \n"
     ]
    }
   ],
   "source": [
    "print tickerDataRaw.head()"
   ]
  },
  {
   "cell_type": "code",
   "execution_count": 43,
   "metadata": {
    "collapsed": false
   },
   "outputs": [],
   "source": [
    "tickerDataRaw['lag1']=tickerDataRaw['Close'].shift(1)"
   ]
  },
  {
   "cell_type": "code",
   "execution_count": 44,
   "metadata": {
    "collapsed": false
   },
   "outputs": [],
   "source": [
    "tickerDataRaw['lag2']=tickerDataRaw['Close'].shift(2)"
   ]
  },
  {
   "cell_type": "code",
   "execution_count": 52,
   "metadata": {
    "collapsed": false
   },
   "outputs": [],
   "source": [
    "tickerDataRaw['difflow']= tickerDataRaw['Low']-tickerDataRaw['Low'].shift(1)"
   ]
  },
  {
   "cell_type": "code",
   "execution_count": 54,
   "metadata": {
    "collapsed": true
   },
   "outputs": [],
   "source": [
    "tickerDataRaw['diffcloselow']=tickerDataRaw['Close']-tickerDataRaw['Low'].shift(1)"
   ]
  },
  {
   "cell_type": "code",
   "execution_count": 55,
   "metadata": {
    "collapsed": false
   },
   "outputs": [
    {
     "name": "stdout",
     "output_type": "stream",
     "text": [
      "                        Open     High      Low    Close      Volume       ret  \\\n",
      "GMT time                                                                        \n",
      "2005-03-01 00:00:00  1.35772  1.35777  1.35391  1.35438  29752.0996       NaN   \n",
      "2005-03-01 01:00:00  1.35443  1.35477  1.35271  1.35354  33412.1992 -0.000620   \n",
      "2005-03-01 02:00:00  1.35357  1.35358  1.34965  1.35012  31876.0996 -0.002527   \n",
      "2005-03-01 03:00:00  1.34998  1.35004  1.33856  1.34061  29160.5996 -0.007044   \n",
      "2005-03-01 04:00:00  1.34094  1.34422  1.34056  1.34418  30099.0996  0.002663   \n",
      "\n",
      "                       Logrtn     lag1     lag2     lag3  difflow  \\\n",
      "GMT time                                                            \n",
      "2005-03-01 00:00:00       NaN      NaN      NaN      NaN      NaN   \n",
      "2005-03-01 01:00:00 -0.000620  1.35438      NaN      NaN -0.00120   \n",
      "2005-03-01 02:00:00 -0.002530  1.35354  1.35438      NaN -0.00306   \n",
      "2005-03-01 03:00:00 -0.007069  1.35012  1.35354  1.35438 -0.01109   \n",
      "2005-03-01 04:00:00  0.002659  1.34061  1.35012  1.35354  0.00200   \n",
      "\n",
      "                     diffcloselow  \n",
      "GMT time                           \n",
      "2005-03-01 00:00:00           NaN  \n",
      "2005-03-01 01:00:00      -0.00037  \n",
      "2005-03-01 02:00:00      -0.00259  \n",
      "2005-03-01 03:00:00      -0.00904  \n",
      "2005-03-01 04:00:00       0.00562  \n"
     ]
    }
   ],
   "source": [
    "print tickerDataRaw.head()"
   ]
  },
  {
   "cell_type": "code",
   "execution_count": null,
   "metadata": {
    "collapsed": true
   },
   "outputs": [],
   "source": [
    "import kera"
   ]
  }
 ],
 "metadata": {
  "kernelspec": {
   "display_name": "Python 2",
   "language": "python",
   "name": "python2"
  },
  "language_info": {
   "codemirror_mode": {
    "name": "ipython",
    "version": 2
   },
   "file_extension": ".py",
   "mimetype": "text/x-python",
   "name": "python",
   "nbconvert_exporter": "python",
   "pygments_lexer": "ipython2",
   "version": "2.7.11"
  }
 },
 "nbformat": 4,
 "nbformat_minor": 0
}
